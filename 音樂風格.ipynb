{
  "cells": [
    {
      "cell_type": "code",
      "execution_count": null,
      "metadata": {
        "id": "f4ur4lON98om"
      },
      "outputs": [],
      "source": [
        "import warnings\n",
        "warnings.filterwarnings('ignore')\n",
        "import pandas as pd\n",
        "import numpy as np\n",
        "import librosa\n",
        "import matplotlib.pyplot as plt\n",
        "\n",
        "import os\n",
        "from PIL import Image\n",
        "from pathlib import Path\n",
        "import csv\n",
        "\n",
        "from sklearn.model_selection import train_test_split\n",
        "from sklearn.preprocessing import LabelEncoder, StandardScaler\n",
        "\n",
        "import tensorflow as tf\n",
        "import librosa.display\n",
        "import random"
      ]
    },
    {
      "cell_type": "code",
      "execution_count": null,
      "metadata": {
        "id": "aKfvNpjgrPAD",
        "colab": {
          "base_uri": "https://localhost:8080/"
        },
        "outputId": "77e7f019-5a0b-42c7-f142-b8f3ec2402a7"
      },
      "outputs": [
        {
          "output_type": "stream",
          "name": "stdout",
          "text": [
            "13986\n"
          ]
        }
      ],
      "source": [
        "dataset = []\n",
        "genres = {'blues': 0, 'classical': 1, 'country': 2, 'disco': 3, 'hiphop': 4,\n",
        "          'jazz': 5, 'metal': 6, 'pop': 7, 'reggae': 8, 'rock': 9}\n",
        "\n",
        "for genre, genre_number in genres.items():\n",
        "    for filename in os.listdir(f'/content/drive/MyDrive/Data/genres_original/{genre}'):\n",
        "        songname = f'/content/drive/MyDrive/Data/genres_original/{genre}/{filename}'\n",
        "        for index in range(14):\n",
        "            y, sr = librosa.load(songname, mono=True, duration=2, offset=index*2)\n",
        "            ps = librosa.feature.melspectrogram(y=y, sr=sr, hop_length=256, n_fft=512, n_mels=64)\n",
        "            ps = librosa.power_to_db(ps**2)\n",
        "            dataset.append((ps, genre_number))\n",
        "\n",
        "print(len(dataset))"
      ]
    },
    {
      "cell_type": "markdown",
      "source": [
        "**分割資料集**"
      ],
      "metadata": {
        "id": "F2XGzPSrRj2f"
      }
    },
    {
      "cell_type": "code",
      "source": [
        "random.shuffle(dataset)\n",
        "\n",
        "train = dataset[:10000]\n",
        "valid = dataset[10000:12000]\n",
        "test = dataset[12000:]\n",
        "\n",
        "X_train, Y_train = zip(*train)\n",
        "X_valid, Y_valid = zip(*valid)\n",
        "X_test, Y_test = zip(*test)\n",
        "\n",
        "# Reshape for CNN input\n",
        "X_train = np.array([x.reshape((64, 173, 1)) for x in X_train])\n",
        "X_valid = np.array([x.reshape((64, 173, 1)) for x in X_valid])\n",
        "X_test = np.array([x.reshape((64, 173, 1)) for x in X_test])\n",
        "\n",
        "# One-Hot encoding for classes\n",
        "Y_train = np.array(tf.keras.utils.to_categorical(Y_train, 10))\n",
        "Y_valid = np.array(tf.keras.utils.to_categorical(Y_valid, 10))\n",
        "Y_test = np.array(tf.keras.utils.to_categorical(Y_test, 10))\n",
        "\n",
        "print(X_train.shape, Y_train.shape, X_valid.shape, Y_valid.shape, X_test.shape, Y_test.shape)"
      ],
      "metadata": {
        "id": "np81ymBxsHMo",
        "colab": {
          "base_uri": "https://localhost:8080/"
        },
        "outputId": "5aa3f3c0-c3e6-47d6-c526-5d286cee4b9e"
      },
      "execution_count": null,
      "outputs": [
        {
          "output_type": "stream",
          "name": "stdout",
          "text": [
            "(10000, 64, 173, 1) (10000, 10) (2000, 64, 173, 1) (2000, 10) (1986, 64, 173, 1) (1986, 10)\n"
          ]
        }
      ]
    },
    {
      "cell_type": "markdown",
      "source": [
        "**模型訓練**"
      ],
      "metadata": {
        "id": "6lsyTWyoR12a"
      }
    },
    {
      "cell_type": "code",
      "source": [
        "cnn_model = tf.keras.Sequential([\n",
        "    tf.keras.layers.Conv2D(32, (3, 3), activation='relu', input_shape=(64, 173, 1)),\n",
        "    tf.keras.layers.MaxPooling2D((2, 2)),\n",
        "    tf.keras.layers.BatchNormalization(),\n",
        "    tf.keras.layers.Dropout(0.4),\n",
        "    tf.keras.layers.Conv2D(64, (3, 3), activation='relu'),\n",
        "    tf.keras.layers.MaxPooling2D((2, 2)),\n",
        "    tf.keras.layers.BatchNormalization(),\n",
        "    tf.keras.layers.Dropout(0.4),\n",
        "    tf.keras.layers.Conv2D(128, (3, 3), activation='relu'),\n",
        "    tf.keras.layers.MaxPooling2D((2, 2)),\n",
        "    tf.keras.layers.BatchNormalization(),\n",
        "    tf.keras.layers.Dropout(0.4),\n",
        "    tf.keras.layers.Flatten(),\n",
        "    tf.keras.layers.Dense(64, activation='relu', kernel_regularizer=tf.keras.regularizers.l2(0.001)),\n",
        "    tf.keras.layers.BatchNormalization(),\n",
        "    tf.keras.layers.Dropout(0.4),\n",
        "    tf.keras.layers.Dense(10, activation='softmax')\n",
        "])"
      ],
      "metadata": {
        "id": "rmXOQqjfsOy8"
      },
      "execution_count": null,
      "outputs": []
    },
    {
      "cell_type": "code",
      "source": [
        "cnn_model.compile(optimizer=tf.keras.optimizers.Adam(lr=0.001), loss=\"categorical_crossentropy\", metrics=['accuracy'])"
      ],
      "metadata": {
        "id": "L3W5hwQAs04s",
        "colab": {
          "base_uri": "https://localhost:8080/"
        },
        "outputId": "36dbf527-aed3-4ea1-e21e-bc2d24b66490"
      },
      "execution_count": null,
      "outputs": [
        {
          "output_type": "stream",
          "name": "stderr",
          "text": [
            "WARNING:absl:`lr` is deprecated in Keras optimizer, please use `learning_rate` or use the legacy optimizer, e.g.,tf.keras.optimizers.legacy.Adam.\n"
          ]
        }
      ]
    },
    {
      "cell_type": "code",
      "source": [
        "cnn_history = cnn_model.fit(X_train, Y_train, epochs=50, batch_size=64, validation_data=(X_valid, Y_valid))"
      ],
      "metadata": {
        "id": "5CVfUQ6usnjC",
        "colab": {
          "base_uri": "https://localhost:8080/"
        },
        "outputId": "71060de8-d0f8-4024-9e24-9039046fc9ac"
      },
      "execution_count": null,
      "outputs": [
        {
          "output_type": "stream",
          "name": "stdout",
          "text": [
            "Epoch 1/50\n",
            "157/157 [==============================] - 16s 38ms/step - loss: 1.9694 - accuracy: 0.3881 - val_loss: 2.1133 - val_accuracy: 0.3405\n",
            "Epoch 2/50\n",
            "157/157 [==============================] - 5s 34ms/step - loss: 1.5690 - accuracy: 0.5258 - val_loss: 1.6980 - val_accuracy: 0.4815\n",
            "Epoch 3/50\n",
            "157/157 [==============================] - 5s 32ms/step - loss: 1.4150 - accuracy: 0.5859 - val_loss: 1.4014 - val_accuracy: 0.6115\n",
            "Epoch 4/50\n",
            "157/157 [==============================] - 5s 32ms/step - loss: 1.3143 - accuracy: 0.6346 - val_loss: 1.3936 - val_accuracy: 0.6275\n",
            "Epoch 5/50\n",
            "157/157 [==============================] - 5s 34ms/step - loss: 1.2295 - accuracy: 0.6779 - val_loss: 1.3590 - val_accuracy: 0.6320\n",
            "Epoch 6/50\n",
            "157/157 [==============================] - 5s 33ms/step - loss: 1.1801 - accuracy: 0.7008 - val_loss: 1.3135 - val_accuracy: 0.6590\n",
            "Epoch 7/50\n",
            "157/157 [==============================] - 6s 35ms/step - loss: 1.1124 - accuracy: 0.7299 - val_loss: 1.4271 - val_accuracy: 0.6465\n",
            "Epoch 8/50\n",
            "157/157 [==============================] - 5s 34ms/step - loss: 1.0834 - accuracy: 0.7446 - val_loss: 1.3932 - val_accuracy: 0.6800\n",
            "Epoch 9/50\n",
            "157/157 [==============================] - 5s 32ms/step - loss: 1.0649 - accuracy: 0.7614 - val_loss: 1.8108 - val_accuracy: 0.5600\n",
            "Epoch 10/50\n",
            "157/157 [==============================] - 5s 33ms/step - loss: 1.0523 - accuracy: 0.7760 - val_loss: 1.2616 - val_accuracy: 0.7105\n",
            "Epoch 11/50\n",
            "157/157 [==============================] - 5s 32ms/step - loss: 1.0144 - accuracy: 0.7856 - val_loss: 1.7242 - val_accuracy: 0.5505\n",
            "Epoch 12/50\n",
            "157/157 [==============================] - 5s 32ms/step - loss: 1.0026 - accuracy: 0.8016 - val_loss: 1.4114 - val_accuracy: 0.6765\n",
            "Epoch 13/50\n",
            "157/157 [==============================] - 5s 34ms/step - loss: 0.9793 - accuracy: 0.8099 - val_loss: 1.4201 - val_accuracy: 0.6745\n",
            "Epoch 14/50\n",
            "157/157 [==============================] - 5s 32ms/step - loss: 1.0079 - accuracy: 0.8046 - val_loss: 1.3030 - val_accuracy: 0.7280\n",
            "Epoch 15/50\n",
            "157/157 [==============================] - 5s 33ms/step - loss: 0.9805 - accuracy: 0.8192 - val_loss: 1.6535 - val_accuracy: 0.6505\n",
            "Epoch 16/50\n",
            "157/157 [==============================] - 5s 34ms/step - loss: 0.9697 - accuracy: 0.8287 - val_loss: 1.4494 - val_accuracy: 0.6840\n",
            "Epoch 17/50\n",
            "157/157 [==============================] - 5s 33ms/step - loss: 0.9577 - accuracy: 0.8403 - val_loss: 1.2316 - val_accuracy: 0.7565\n",
            "Epoch 18/50\n",
            "157/157 [==============================] - 5s 33ms/step - loss: 0.9679 - accuracy: 0.8361 - val_loss: 1.3643 - val_accuracy: 0.7370\n",
            "Epoch 19/50\n",
            "157/157 [==============================] - 5s 34ms/step - loss: 0.9855 - accuracy: 0.8371 - val_loss: 1.5430 - val_accuracy: 0.6800\n",
            "Epoch 20/50\n",
            "157/157 [==============================] - 5s 33ms/step - loss: 0.9628 - accuracy: 0.8520 - val_loss: 1.3898 - val_accuracy: 0.7320\n",
            "Epoch 21/50\n",
            "157/157 [==============================] - 5s 34ms/step - loss: 0.9579 - accuracy: 0.8518 - val_loss: 1.4552 - val_accuracy: 0.7140\n",
            "Epoch 22/50\n",
            "157/157 [==============================] - 5s 32ms/step - loss: 0.9319 - accuracy: 0.8610 - val_loss: 2.0999 - val_accuracy: 0.5805\n",
            "Epoch 23/50\n",
            "157/157 [==============================] - 5s 33ms/step - loss: 0.9199 - accuracy: 0.8638 - val_loss: 1.6374 - val_accuracy: 0.6620\n",
            "Epoch 24/50\n",
            "157/157 [==============================] - 5s 34ms/step - loss: 0.9409 - accuracy: 0.8581 - val_loss: 1.3612 - val_accuracy: 0.7390\n",
            "Epoch 25/50\n",
            "157/157 [==============================] - 5s 32ms/step - loss: 0.9203 - accuracy: 0.8698 - val_loss: 1.4628 - val_accuracy: 0.7285\n",
            "Epoch 26/50\n",
            "157/157 [==============================] - 5s 33ms/step - loss: 0.9439 - accuracy: 0.8644 - val_loss: 1.3902 - val_accuracy: 0.7505\n",
            "Epoch 27/50\n",
            "157/157 [==============================] - 5s 34ms/step - loss: 0.9222 - accuracy: 0.8736 - val_loss: 1.3186 - val_accuracy: 0.7570\n",
            "Epoch 28/50\n",
            "157/157 [==============================] - 5s 32ms/step - loss: 0.9390 - accuracy: 0.8732 - val_loss: 1.3338 - val_accuracy: 0.7700\n",
            "Epoch 29/50\n",
            "157/157 [==============================] - 5s 33ms/step - loss: 0.9270 - accuracy: 0.8808 - val_loss: 1.3244 - val_accuracy: 0.7555\n",
            "Epoch 30/50\n",
            "157/157 [==============================] - 5s 33ms/step - loss: 0.9304 - accuracy: 0.8780 - val_loss: 2.4312 - val_accuracy: 0.5250\n",
            "Epoch 31/50\n",
            "157/157 [==============================] - 5s 33ms/step - loss: 0.9318 - accuracy: 0.8802 - val_loss: 1.3404 - val_accuracy: 0.7790\n",
            "Epoch 32/50\n",
            "157/157 [==============================] - 5s 34ms/step - loss: 0.9088 - accuracy: 0.8847 - val_loss: 1.3496 - val_accuracy: 0.7635\n",
            "Epoch 33/50\n",
            "157/157 [==============================] - 5s 32ms/step - loss: 0.9083 - accuracy: 0.8838 - val_loss: 1.4865 - val_accuracy: 0.7450\n",
            "Epoch 34/50\n",
            "157/157 [==============================] - 5s 32ms/step - loss: 0.8977 - accuracy: 0.8894 - val_loss: 1.6404 - val_accuracy: 0.7100\n",
            "Epoch 35/50\n",
            "157/157 [==============================] - 5s 34ms/step - loss: 0.9127 - accuracy: 0.8840 - val_loss: 1.4517 - val_accuracy: 0.7495\n",
            "Epoch 36/50\n",
            "157/157 [==============================] - 5s 33ms/step - loss: 0.9131 - accuracy: 0.8872 - val_loss: 2.3202 - val_accuracy: 0.5965\n",
            "Epoch 37/50\n",
            "157/157 [==============================] - 5s 33ms/step - loss: 0.8959 - accuracy: 0.8943 - val_loss: 1.5364 - val_accuracy: 0.7185\n",
            "Epoch 38/50\n",
            "157/157 [==============================] - 5s 34ms/step - loss: 0.8903 - accuracy: 0.8938 - val_loss: 1.2723 - val_accuracy: 0.7930\n",
            "Epoch 39/50\n",
            "157/157 [==============================] - 5s 32ms/step - loss: 0.9051 - accuracy: 0.8930 - val_loss: 1.2880 - val_accuracy: 0.8000\n",
            "Epoch 40/50\n",
            "157/157 [==============================] - 5s 34ms/step - loss: 0.9037 - accuracy: 0.8919 - val_loss: 1.2692 - val_accuracy: 0.7935\n",
            "Epoch 41/50\n",
            "157/157 [==============================] - 5s 33ms/step - loss: 0.8635 - accuracy: 0.9038 - val_loss: 1.3361 - val_accuracy: 0.7685\n",
            "Epoch 42/50\n",
            "157/157 [==============================] - 5s 32ms/step - loss: 0.8547 - accuracy: 0.8993 - val_loss: 1.4958 - val_accuracy: 0.7360\n",
            "Epoch 43/50\n",
            "157/157 [==============================] - 5s 33ms/step - loss: 0.9054 - accuracy: 0.8903 - val_loss: 1.3397 - val_accuracy: 0.7870\n",
            "Epoch 44/50\n",
            "157/157 [==============================] - 5s 32ms/step - loss: 0.9014 - accuracy: 0.8937 - val_loss: 1.2912 - val_accuracy: 0.7940\n",
            "Epoch 45/50\n",
            "157/157 [==============================] - 5s 32ms/step - loss: 0.8973 - accuracy: 0.8948 - val_loss: 1.4959 - val_accuracy: 0.7390\n",
            "Epoch 46/50\n",
            "157/157 [==============================] - 5s 34ms/step - loss: 0.8730 - accuracy: 0.9033 - val_loss: 4.2868 - val_accuracy: 0.4805\n",
            "Epoch 47/50\n",
            "157/157 [==============================] - 5s 32ms/step - loss: 0.8657 - accuracy: 0.9050 - val_loss: 2.0682 - val_accuracy: 0.6355\n",
            "Epoch 48/50\n",
            "157/157 [==============================] - 5s 33ms/step - loss: 0.8610 - accuracy: 0.9052 - val_loss: 1.3818 - val_accuracy: 0.7670\n",
            "Epoch 49/50\n",
            "157/157 [==============================] - 5s 33ms/step - loss: 0.8674 - accuracy: 0.8977 - val_loss: 1.3380 - val_accuracy: 0.7920\n",
            "Epoch 50/50\n",
            "157/157 [==============================] - 5s 32ms/step - loss: 0.8705 - accuracy: 0.9019 - val_loss: 1.4517 - val_accuracy: 0.7480\n"
          ]
        }
      ]
    },
    {
      "cell_type": "markdown",
      "source": [
        "**驗證模型**"
      ],
      "metadata": {
        "id": "YSBIKZwZR9VX"
      }
    },
    {
      "cell_type": "code",
      "source": [
        "cnn_test_loss, cnn_test_acc = cnn_model.evaluate(X_test, Y_test, verbose=2)"
      ],
      "metadata": {
        "id": "k9UxgBF3JHd9",
        "colab": {
          "base_uri": "https://localhost:8080/"
        },
        "outputId": "d3c3f916-ff0a-41d9-8262-285656ccf26d"
      },
      "execution_count": null,
      "outputs": [
        {
          "output_type": "stream",
          "name": "stdout",
          "text": [
            "63/63 - 1s - loss: 1.4976 - accuracy: 0.7417 - 680ms/epoch - 11ms/step\n"
          ]
        }
      ]
    },
    {
      "cell_type": "code",
      "source": [
        "print('CNN Test Accuracy:', cnn_test_acc)"
      ],
      "metadata": {
        "id": "sb7FOItZJJ1U",
        "colab": {
          "base_uri": "https://localhost:8080/"
        },
        "outputId": "9c3e8216-52de-432c-8974-c2a2929cee01"
      },
      "execution_count": null,
      "outputs": [
        {
          "output_type": "stream",
          "name": "stdout",
          "text": [
            "CNN Test Accuracy: 0.7416918277740479\n"
          ]
        }
      ]
    },
    {
      "cell_type": "markdown",
      "source": [],
      "metadata": {
        "id": "5dxj0vwHbEhg"
      }
    },
    {
      "cell_type": "markdown",
      "source": [
        "**混淆矩陣**"
      ],
      "metadata": {
        "id": "Ur5VyjilcCuK"
      }
    },
    {
      "cell_type": "code",
      "source": [
        "import numpy as np\n",
        "import matplotlib.pyplot as plt\n",
        "from sklearn.metrics import confusion_matrix, ConfusionMatrixDisplay\n",
        "# 預測\n",
        "Y_pred = cnn_model.predict(X_test)\n",
        "Y_pred_classes = np.argmax(Y_pred, axis=1)\n",
        "Y_true = np.argmax(Y_test, axis=1)\n",
        "\n",
        "# 打印混淆矩陣\n",
        "cm = confusion_matrix(Y_true, Y_pred_classes)\n",
        "cmd = ConfusionMatrixDisplay(cm, display_labels=genres.keys())\n",
        "cmd.plot()\n",
        "plt.xticks(rotation=90)\n",
        "plt.show()"
      ],
      "metadata": {
        "id": "Tg_eIXW2bFE1",
        "colab": {
          "base_uri": "https://localhost:8080/",
          "height": 511
        },
        "outputId": "3a15d535-eef5-426b-cf7a-266ef751c79f"
      },
      "execution_count": null,
      "outputs": [
        {
          "output_type": "stream",
          "name": "stdout",
          "text": [
            "63/63 [==============================] - 1s 10ms/step\n"
          ]
        },
        {
          "output_type": "display_data",
          "data": {
            "text/plain": [
              "<Figure size 640x480 with 2 Axes>"
            ],
            "image/png": "[encoded data removed]"
          },
          "metadata": {}
        }
      ]
    },
    {
      "cell_type": "markdown",
      "source": [
        "**模型下載**"
      ],
      "metadata": {
        "id": "1D8MzekkcLBK"
      }
    },
    {
      "cell_type": "code",
      "source": [
        "# 儲存模型架構及權重\n",
        "model_save_path = '/content/drive/MyDrive/Models/your_model_name.h5'\n",
        "cnn_model.save(model_save_path)\n",
        "\n",
        "# 儲存訓練過程中的歷史記錄（選擇性）\n",
        "import pickle\n",
        "\n",
        "history_save_path = '/content/drive/MyDrive/Models/your_model_history.pkl'\n",
        "with open(history_save_path, 'wb') as file:\n",
        "    pickle.dump(cnn_history.history, file)\n"
      ],
      "metadata": {
        "id": "71v4OZwkSK2i"
      },
      "execution_count": null,
      "outputs": []
    },
    {
      "cell_type": "markdown",
      "source": [
        "**測試**"
      ],
      "metadata": {
        "id": "aevW__xAcVI7"
      }
    },
    {
      "cell_type": "code",
      "source": [
        "import os\n",
        "import librosa\n",
        "import numpy as np\n",
        "import tensorflow as tf\n",
        "from collections import Counter\n",
        "# cnn model\n",
        "cnn_model = tf.keras.models.load_model('/content/drive/MyDrive/Models/your_model_name.h5')\n",
        "\n",
        "genres = {'blues': 0, 'classical': 1, 'country': 2, 'disco': 3, 'hiphop': 4,\n",
        "          'jazz': 5, 'metal': 6, 'pop': 7, 'reggae': 8, 'rock': 9}\n",
        "\n",
        "# 音檔\n",
        "music_file = '/content/drive/MyDrive/Data/head-down-prod-madirfan-194665.mp3'\n",
        "\n",
        "\n",
        "y, sr = librosa.load(music_file, mono=True)\n",
        "\n",
        "total_duration_sec = 2 * len(y) / sr\n",
        "\n",
        "# 切割音檔\n",
        "segments = []\n",
        "for i in range(int(total_duration_sec) // 2):\n",
        "    start_sec = i * 2\n",
        "    end_sec = start_sec + 2\n",
        "    start_frame = int(start_sec * sr)\n",
        "    end_frame = int(end_sec * sr)\n",
        "    segment = y[start_frame:end_frame]\n",
        "    segments.append(segment)\n",
        "\n",
        "# 如果不足兩秒則忽略\n",
        "if len(segments[-1]) < 2 * sr:\n",
        "    segments.pop()\n",
        "\n",
        "# 梅爾頻譜圖\n",
        "processed_segments = []\n",
        "for segment in segments:\n",
        "    ps = librosa.feature.melspectrogram(y=segment, sr=sr, hop_length=256, n_fft=512, n_mels=64)\n",
        "    ps = librosa.power_to_db(ps**2)\n",
        "\n",
        "    # 调整形状以适应CNN模型的输入\n",
        "    ps_input = ps.reshape((ps.shape[0], ps.shape[1], 1))  # ps.shape[0] 是 n_mels，ps.shape[1] 是 time_steps\n",
        "    processed_segments.append(ps_input)\n",
        "\n",
        "max_time_steps = max(ps_input.shape[1] for ps_input in processed_segments)\n",
        "processed_segments = [np.pad(ps_input, ((0, 0), (0, max_time_steps - ps_input.shape[1]), (0, 0)), mode='constant') for ps_input in processed_segments]\n",
        "\n",
        "processed_segments = np.array(processed_segments)\n",
        "\n",
        "# 預測\n",
        "predictions = cnn_model.predict(processed_segments)\n",
        "\n",
        "predicted_classes = np.argmax(predictions, axis=1)\n",
        "predicted_genres = [list(genres.keys())[pred] for pred in predicted_classes]\n",
        "\n",
        "# 輸出每個片段的音樂類型\n",
        "for i, pred_genre in enumerate(predicted_genres):\n",
        "    print(f\"Predicted genre for segment {i + 1}: {pred_genre}\")\n",
        "\n",
        "genre_counter = Counter(predicted_genres)\n",
        "\n",
        "most_common_genre = genre_counter.most_common(1)[0][0]\n",
        "\n",
        "# 投票\n",
        "print(f\"Most predicted genre: {most_common_genre}\")\n"
      ],
      "metadata": {
        "colab": {
          "base_uri": "https://localhost:8080/"
        },
        "id": "DoF5cUh8TaWq",
        "outputId": "e6b957f2-e62f-4abf-b2dc-0110cb7fe2d3"
      },
      "execution_count": null,
      "outputs": [
        {
          "output_type": "stream",
          "name": "stderr",
          "text": [
            "WARNING:tensorflow:5 out of the last 11 calls to <function Model.make_predict_function.<locals>.predict_function at 0x7c99e8badbd0> triggered tf.function retracing. Tracing is expensive and the excessive number of tracings could be due to (1) creating @tf.function repeatedly in a loop, (2) passing tensors with different shapes, (3) passing Python objects instead of tensors. For (1), please define your @tf.function outside of the loop. For (2), @tf.function has reduce_retracing=True option that can avoid unnecessary retracing. For (3), please refer to https://www.tensorflow.org/guide/function#controlling_retracing and https://www.tensorflow.org/api_docs/python/tf/function for  more details.\n"
          ]
        },
        {
          "output_type": "stream",
          "name": "stdout",
          "text": [
            "4/4 [==============================] - 0s 83ms/step\n",
            "Predicted genre for segment 1: reggae\n",
            "Predicted genre for segment 2: reggae\n",
            "Predicted genre for segment 3: hiphop\n",
            "Predicted genre for segment 4: hiphop\n",
            "Predicted genre for segment 5: reggae\n",
            "Predicted genre for segment 6: reggae\n",
            "Predicted genre for segment 7: hiphop\n",
            "Predicted genre for segment 8: hiphop\n",
            "Predicted genre for segment 9: hiphop\n",
            "Predicted genre for segment 10: reggae\n",
            "Predicted genre for segment 11: reggae\n",
            "Predicted genre for segment 12: hiphop\n",
            "Predicted genre for segment 13: hiphop\n",
            "Predicted genre for segment 14: hiphop\n",
            "Predicted genre for segment 15: reggae\n",
            "Predicted genre for segment 16: hiphop\n",
            "Predicted genre for segment 17: pop\n",
            "Predicted genre for segment 18: hiphop\n",
            "Predicted genre for segment 19: hiphop\n",
            "Predicted genre for segment 20: reggae\n",
            "Predicted genre for segment 21: hiphop\n",
            "Predicted genre for segment 22: reggae\n",
            "Predicted genre for segment 23: hiphop\n",
            "Predicted genre for segment 24: reggae\n",
            "Predicted genre for segment 25: reggae\n",
            "Predicted genre for segment 26: hiphop\n",
            "Predicted genre for segment 27: hiphop\n",
            "Predicted genre for segment 28: hiphop\n",
            "Predicted genre for segment 29: hiphop\n",
            "Predicted genre for segment 30: hiphop\n",
            "Predicted genre for segment 31: hiphop\n",
            "Predicted genre for segment 32: hiphop\n",
            "Predicted genre for segment 33: hiphop\n",
            "Predicted genre for segment 34: reggae\n",
            "Predicted genre for segment 35: hiphop\n",
            "Predicted genre for segment 36: hiphop\n",
            "Predicted genre for segment 37: hiphop\n",
            "Predicted genre for segment 38: hiphop\n",
            "Predicted genre for segment 39: reggae\n",
            "Predicted genre for segment 40: hiphop\n",
            "Predicted genre for segment 41: hiphop\n",
            "Predicted genre for segment 42: hiphop\n",
            "Predicted genre for segment 43: hiphop\n",
            "Predicted genre for segment 44: reggae\n",
            "Predicted genre for segment 45: hiphop\n",
            "Predicted genre for segment 46: hiphop\n",
            "Predicted genre for segment 47: hiphop\n",
            "Predicted genre for segment 48: reggae\n",
            "Predicted genre for segment 49: reggae\n",
            "Predicted genre for segment 50: hiphop\n",
            "Predicted genre for segment 51: hiphop\n",
            "Predicted genre for segment 52: hiphop\n",
            "Predicted genre for segment 53: hiphop\n",
            "Predicted genre for segment 54: hiphop\n",
            "Predicted genre for segment 55: hiphop\n",
            "Predicted genre for segment 56: hiphop\n",
            "Predicted genre for segment 57: hiphop\n",
            "Predicted genre for segment 58: hiphop\n",
            "Predicted genre for segment 59: hiphop\n",
            "Predicted genre for segment 60: hiphop\n",
            "Predicted genre for segment 61: hiphop\n",
            "Predicted genre for segment 62: hiphop\n",
            "Predicted genre for segment 63: hiphop\n",
            "Predicted genre for segment 64: hiphop\n",
            "Predicted genre for segment 65: hiphop\n",
            "Predicted genre for segment 66: hiphop\n",
            "Predicted genre for segment 67: hiphop\n",
            "Predicted genre for segment 68: hiphop\n",
            "Predicted genre for segment 69: hiphop\n",
            "Predicted genre for segment 70: hiphop\n",
            "Predicted genre for segment 71: hiphop\n",
            "Predicted genre for segment 72: hiphop\n",
            "Predicted genre for segment 73: hiphop\n",
            "Predicted genre for segment 74: hiphop\n",
            "Predicted genre for segment 75: hiphop\n",
            "Predicted genre for segment 76: hiphop\n",
            "Predicted genre for segment 77: hiphop\n",
            "Predicted genre for segment 78: hiphop\n",
            "Predicted genre for segment 79: hiphop\n",
            "Predicted genre for segment 80: hiphop\n",
            "Predicted genre for segment 81: hiphop\n",
            "Predicted genre for segment 82: hiphop\n",
            "Predicted genre for segment 83: hiphop\n",
            "Predicted genre for segment 84: hiphop\n",
            "Predicted genre for segment 85: hiphop\n",
            "Predicted genre for segment 86: hiphop\n",
            "Predicted genre for segment 87: hiphop\n",
            "Predicted genre for segment 88: hiphop\n",
            "Predicted genre for segment 89: hiphop\n",
            "Predicted genre for segment 90: hiphop\n",
            "Predicted genre for segment 91: hiphop\n",
            "Predicted genre for segment 92: hiphop\n",
            "Predicted genre for segment 93: hiphop\n",
            "Predicted genre for segment 94: hiphop\n",
            "Predicted genre for segment 95: hiphop\n",
            "Predicted genre for segment 96: hiphop\n",
            "Predicted genre for segment 97: hiphop\n",
            "Predicted genre for segment 98: hiphop\n",
            "Predicted genre for segment 99: hiphop\n",
            "Predicted genre for segment 100: hiphop\n",
            "Predicted genre for segment 101: hiphop\n",
            "Most predicted genre: hiphop\n"
          ]
        }
      ]
    }
  ],
  "metadata": {
    "colab": {
      "provenance": [],
      "gpuType": "T4"
    },
    "kernelspec": {
      "display_name": "Python 3",
      "name": "python3"
    },
    "language_info": {
      "name": "python"
    },
    "accelerator": "GPU"
  },
  "nbformat": 4,
  "nbformat_minor": 0
}